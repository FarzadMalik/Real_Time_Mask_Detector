{
 "cells": [
  {
   "cell_type": "markdown",
   "id": "1a7d6e95",
   "metadata": {},
   "source": [
    "# Getting images"
   ]
  },
  {
   "cell_type": "markdown",
   "id": "e92822e7",
   "metadata": {},
   "source": [
    "#### Import dependencies"
   ]
  },
  {
   "cell_type": "code",
   "execution_count": 1,
   "id": "14987ba5",
   "metadata": {},
   "outputs": [],
   "source": [
    "import os\n",
    "import cv2 #computer vision module\n",
    "import uuid #serial number"
   ]
  },
  {
   "cell_type": "markdown",
   "id": "9f4535c8",
   "metadata": {},
   "source": [
    "#### Getting Camera ID"
   ]
  },
  {
   "cell_type": "code",
   "execution_count": 2,
   "id": "c17930b7",
   "metadata": {},
   "outputs": [
    {
     "name": "stdout",
     "output_type": "stream",
     "text": [
      "[0]\n"
     ]
    }
   ],
   "source": [
    "openCvVidCapIds = []\n",
    "\n",
    "for i in range(100):\n",
    "    try:\n",
    "        cap = cv2.VideoCapture(i)\n",
    "        if cap is not None and cap.isOpened():\n",
    "            openCvVidCapIds.append(i)\n",
    "        # end if\n",
    "    except:\n",
    "        pass\n",
    "    # end try\n",
    "# end for\n",
    "\n",
    "print(str(openCvVidCapIds))"
   ]
  },
  {
   "cell_type": "code",
   "execution_count": 3,
   "id": "18dc59dd",
   "metadata": {},
   "outputs": [
    {
     "name": "stdout",
     "output_type": "stream",
     "text": [
      "True\n"
     ]
    }
   ],
   "source": [
    "cap = cv2.VideoCapture(0) # configure video capture device\n",
    "width= int(cap.get(cv2.CAP_PROP_FRAME_WIDTH)) #get the dimensions for the frame\n",
    "height = int(cap.get(cv2.CAP_PROP_FRAME_HEIGHT))\n",
    "ret, frame = cap.read()\n",
    "\n",
    "print(ret) #if ret is true then the device ID is correct\n"
   ]
  },
  {
   "cell_type": "markdown",
   "id": "5764ec24",
   "metadata": {},
   "source": [
    "#### script for capturing from video"
   ]
  },
  {
   "cell_type": "code",
   "execution_count": 4,
   "id": "ffd03885",
   "metadata": {},
   "outputs": [
    {
     "ename": "NameError",
     "evalue": "name 'cap' is not defined",
     "output_type": "error",
     "traceback": [
      "\u001b[1;31m---------------------------------------------------------------------------\u001b[0m",
      "\u001b[1;31mNameError\u001b[0m                                 Traceback (most recent call last)",
      "Cell \u001b[1;32mIn[4], line 2\u001b[0m\n\u001b[0;32m      1\u001b[0m \u001b[38;5;28;01mwhile\u001b[39;00m \u001b[38;5;28;01mTrue\u001b[39;00m:\n\u001b[1;32m----> 2\u001b[0m     ret, frame \u001b[38;5;241m=\u001b[39m \u001b[43mcap\u001b[49m\u001b[38;5;241m.\u001b[39mread() \u001b[38;5;66;03m#capture current frame\u001b[39;00m\n\u001b[0;32m      3\u001b[0m     imgname \u001b[38;5;241m=\u001b[39m \u001b[38;5;124m'\u001b[39m\u001b[38;5;124m./Images/No_Mask/\u001b[39m\u001b[38;5;132;01m{}\u001b[39;00m\u001b[38;5;124m.jpg\u001b[39m\u001b[38;5;124m'\u001b[39m\u001b[38;5;241m.\u001b[39mformat(\u001b[38;5;28mstr\u001b[39m(uuid\u001b[38;5;241m.\u001b[39muuid1()))   \u001b[38;5;66;03m#save images as unique name on the defined path\u001b[39;00m\n\u001b[0;32m      4\u001b[0m     cv2\u001b[38;5;241m.\u001b[39mimwrite(imgname, frame)   \u001b[38;5;66;03m#save that frame\u001b[39;00m\n",
      "\u001b[1;31mNameError\u001b[0m: name 'cap' is not defined"
     ]
    }
   ],
   "source": [
    "while True:\n",
    "    ret, frame = cap.read() #capture current frame\n",
    "    imgname = './Images/No_Mask/{}.jpg'.format(str(uuid.uuid1()))   #save images as unique name on the defined path\n",
    "    cv2.imwrite(imgname, frame)   #save that frame\n",
    "    cv2.imshow('frame', frame) #show that frame\n",
    "    \n",
    "    if cv2.waitKey(1) & 0xFF == ord('q'): #Stop capturing if q is pressed\n",
    "        break\n",
    "    "
   ]
  },
  {
   "cell_type": "markdown",
   "id": "51a0f13b",
   "metadata": {},
   "source": [
    "#### Close the camera"
   ]
  },
  {
   "cell_type": "code",
   "execution_count": null,
   "id": "a1bc2db0",
   "metadata": {},
   "outputs": [],
   "source": [
    "cap.release() #Closes video file or capturing device\n",
    "cap.destroyAllWindows() #close all windows after exiting the script"
   ]
  }
 ],
 "metadata": {
  "kernelspec": {
   "display_name": "Python 3 (ipykernel)",
   "language": "python",
   "name": "python3"
  },
  "language_info": {
   "codemirror_mode": {
    "name": "ipython",
    "version": 3
   },
   "file_extension": ".py",
   "mimetype": "text/x-python",
   "name": "python",
   "nbconvert_exporter": "python",
   "pygments_lexer": "ipython3",
   "version": "3.9.9"
  }
 },
 "nbformat": 4,
 "nbformat_minor": 5
}

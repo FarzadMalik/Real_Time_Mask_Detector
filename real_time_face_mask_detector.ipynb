{
 "cells": [
  {
   "cell_type": "markdown",
   "id": "25a9b0f3",
   "metadata": {},
   "source": [
    "# 0. Setup paths"
   ]
  },
  {
   "cell_type": "markdown",
   "id": "fd49b0b1",
   "metadata": {},
   "source": [
    "#### Setting up paths before working makes it a lot simpler to write the code"
   ]
  },
  {
   "cell_type": "code",
   "execution_count": 54,
   "id": "c5c06a71",
   "metadata": {},
   "outputs": [],
   "source": [
    "WORKSPACE_PATH = \"tensorflow/workspace\"\n",
    "SCRIPTS_PATH = \"tensorflow/scripts\"\n",
    "API_MODEL_PATH = \"tensorflow/models\"\n",
    "ANNOTATION_PATH = \"tensorflow/workspace/annotations\"\n",
    "IMAGE_PATH =\"tensorflow/workspace/images\"\n",
    "MODEL_PATH = \"tensorflow/workspace/models\"\n",
    "PRETRAINED_MODEL_PATH = \"tensorflow/workspace/pre_trained_model\"\n",
    "CONFIG_PATH = MODEL_PATH + '/' + CUSTOM_MODEL_NAME + '/pipeline.config'\n",
    "CHECKPOINT_PATH = \"tensorflow/workspace/models/my_ssd_mobnet\"\n",
    "\n",
    "#notice the difference between / and \\"
   ]
  },
  {
   "cell_type": "markdown",
   "id": "1a99cb6b",
   "metadata": {},
   "source": [
    "# 1. Create label map"
   ]
  },
  {
   "cell_type": "markdown",
   "id": "b5ba4ccf",
   "metadata": {},
   "source": [
    "#### Labels of all of the labels. In this case mask and no_mask. It will be in protobuf.\n"
   ]
  },
  {
   "cell_type": "code",
   "execution_count": 2,
   "id": "46f1c2b7",
   "metadata": {},
   "outputs": [],
   "source": [
    "labels = [{'name':'mask','id':1},{'name':'no_mask','id':2}]\n"
   ]
  },
  {
   "cell_type": "markdown",
   "id": "b688a6bf",
   "metadata": {},
   "source": [
    "#### Output this dictionary into a label map. Was having problem with the code, so I just manually wrote the protobuf file"
   ]
  },
  {
   "cell_type": "code",
   "execution_count": 17,
   "id": "97915cdc",
   "metadata": {},
   "outputs": [],
   "source": [
    "\n",
    "with open(ANNOTATION_PATH + '/label_map.pbtxt', 'w') as f: #save the mapping into the annotations folder\n",
    "    for label in labels:\n",
    "        f.write('item { \\n')\n",
    "        f.write('\\tname:\\'{}\\'\\n'.format(label['name']))\n",
    "        f.write('\\tid:{}\\n'.format(label['id']))\n",
    "        f.write('}\\n')"
   ]
  },
  {
   "cell_type": "markdown",
   "id": "46052a98",
   "metadata": {},
   "source": [
    "# 2. Create TF Record"
   ]
  },
  {
   "cell_type": "markdown",
   "id": "2ed999c0",
   "metadata": {},
   "source": [
    "#### Generate TFRecord using the script from the official Tensorflow Object Detection tutorial"
   ]
  },
  {
   "cell_type": "code",
   "execution_count": 20,
   "id": "1bc43409",
   "metadata": {},
   "outputs": [
    {
     "name": "stdout",
     "output_type": "stream",
     "text": [
      "Successfully created the TFRecord file: tensorflow/workspace/annotations/train.record\n"
     ]
    },
    {
     "name": "stderr",
     "output_type": "stream",
     "text": [
      "2023-01-06 12:05:19.516497: E tensorflow/stream_executor/cuda/cuda_driver.cc:265] failed call to cuInit: CUDA_ERROR_UNKNOWN: unknown error\n"
     ]
    },
    {
     "name": "stdout",
     "output_type": "stream",
     "text": [
      "Successfully created the TFRecord file: tensorflow/workspace/annotations/test.record\n"
     ]
    },
    {
     "name": "stderr",
     "output_type": "stream",
     "text": [
      "2023-01-06 12:05:36.200980: E tensorflow/stream_executor/cuda/cuda_driver.cc:265] failed call to cuInit: CUDA_ERROR_UNKNOWN: unknown error\n"
     ]
    }
   ],
   "source": [
    "!python {SCRIPTS_PATH + '/generate_tfrecord.py'} -x {IMAGE_PATH + '/train'} -l {ANNOTATION_PATH + '/label_map.pbtxt'} -o {ANNOTATION_PATH + '/train.record'}\n",
    "!python {SCRIPTS_PATH + '/generate_tfrecord.py'} -x {IMAGE_PATH + '/test'} -l {ANNOTATION_PATH + '/label_map.pbtxt'} -o {ANNOTATION_PATH + '/test.record'}"
   ]
  },
  {
   "cell_type": "markdown",
   "id": "32f01e69",
   "metadata": {},
   "source": [
    "# 3. Download pre-trained models"
   ]
  },
  {
   "cell_type": "markdown",
   "id": "dafe1ca5",
   "metadata": {},
   "source": [
    "#### I just did it manually from https://github.com/tensorflow/models"
   ]
  },
  {
   "cell_type": "markdown",
   "id": "8d1ba451",
   "metadata": {},
   "source": [
    "# 4. Copy the model config to training folder"
   ]
  },
  {
   "cell_type": "code",
   "execution_count": 23,
   "id": "a317c4b0",
   "metadata": {},
   "outputs": [
    {
     "name": "stderr",
     "output_type": "stream",
     "text": [
      "A subdirectory or file tensorflow\\workspace\\models\\my_ssd_mobnet already exists.\n",
      "Error occurred while processing: tensorflow\\workspace\\models\\my_ssd_mobnet.\n"
     ]
    },
    {
     "name": "stdout",
     "output_type": "stream",
     "text": [
      "The syntax of the command is incorrect.\n"
     ]
    }
   ],
   "source": [
    "CUSTOM_MODEL_NAME = 'my_ssd_mobnet'\n",
    "\n",
    "!mkdir {'tensorflow\\workspace\\models\\\\'+ CUSTOM_MODEL_NAME} #make the directory\n",
    "!copy {PRETRAINED_MODEL_PATH+ '/ssd_mobilenet_v2_fpnlite_320x320_coco17_tpu-8/pipeline.config'} {MODEL_PATH+'/' + CUSTOM_MODEL_NAME} #copy the file "
   ]
  },
  {
   "cell_type": "markdown",
   "id": "000ce11e",
   "metadata": {},
   "source": [
    "# 5. Update config for transfer learning"
   ]
  },
  {
   "cell_type": "code",
   "execution_count": 24,
   "id": "a12bb3b8",
   "metadata": {},
   "outputs": [],
   "source": [
    "import tensorflow as tf\n",
    "from object_detection.utils import config_util # for grabbing the config file\n",
    "from object_detection.protos import pipeline_pb2 # for editing the config file\n",
    "from google.protobuf import text_format #"
   ]
  },
  {
   "cell_type": "code",
   "execution_count": 26,
   "id": "15705d1e",
   "metadata": {},
   "outputs": [
    {
     "data": {
      "text/plain": [
       "{'model': ssd {\n",
       "   num_classes: 90\n",
       "   image_resizer {\n",
       "     fixed_shape_resizer {\n",
       "       height: 320\n",
       "       width: 320\n",
       "     }\n",
       "   }\n",
       "   feature_extractor {\n",
       "     type: \"ssd_mobilenet_v2_fpn_keras\"\n",
       "     depth_multiplier: 1.0\n",
       "     min_depth: 16\n",
       "     conv_hyperparams {\n",
       "       regularizer {\n",
       "         l2_regularizer {\n",
       "           weight: 3.9999998989515007e-05\n",
       "         }\n",
       "       }\n",
       "       initializer {\n",
       "         random_normal_initializer {\n",
       "           mean: 0.0\n",
       "           stddev: 0.009999999776482582\n",
       "         }\n",
       "       }\n",
       "       activation: RELU_6\n",
       "       batch_norm {\n",
       "         decay: 0.996999979019165\n",
       "         scale: true\n",
       "         epsilon: 0.0010000000474974513\n",
       "       }\n",
       "     }\n",
       "     use_depthwise: true\n",
       "     override_base_feature_extractor_hyperparams: true\n",
       "     fpn {\n",
       "       min_level: 3\n",
       "       max_level: 7\n",
       "       additional_layer_depth: 128\n",
       "     }\n",
       "   }\n",
       "   box_coder {\n",
       "     faster_rcnn_box_coder {\n",
       "       y_scale: 10.0\n",
       "       x_scale: 10.0\n",
       "       height_scale: 5.0\n",
       "       width_scale: 5.0\n",
       "     }\n",
       "   }\n",
       "   matcher {\n",
       "     argmax_matcher {\n",
       "       matched_threshold: 0.5\n",
       "       unmatched_threshold: 0.5\n",
       "       ignore_thresholds: false\n",
       "       negatives_lower_than_unmatched: true\n",
       "       force_match_for_each_row: true\n",
       "       use_matmul_gather: true\n",
       "     }\n",
       "   }\n",
       "   similarity_calculator {\n",
       "     iou_similarity {\n",
       "     }\n",
       "   }\n",
       "   box_predictor {\n",
       "     weight_shared_convolutional_box_predictor {\n",
       "       conv_hyperparams {\n",
       "         regularizer {\n",
       "           l2_regularizer {\n",
       "             weight: 3.9999998989515007e-05\n",
       "           }\n",
       "         }\n",
       "         initializer {\n",
       "           random_normal_initializer {\n",
       "             mean: 0.0\n",
       "             stddev: 0.009999999776482582\n",
       "           }\n",
       "         }\n",
       "         activation: RELU_6\n",
       "         batch_norm {\n",
       "           decay: 0.996999979019165\n",
       "           scale: true\n",
       "           epsilon: 0.0010000000474974513\n",
       "         }\n",
       "       }\n",
       "       depth: 128\n",
       "       num_layers_before_predictor: 4\n",
       "       kernel_size: 3\n",
       "       class_prediction_bias_init: -4.599999904632568\n",
       "       share_prediction_tower: true\n",
       "       use_depthwise: true\n",
       "     }\n",
       "   }\n",
       "   anchor_generator {\n",
       "     multiscale_anchor_generator {\n",
       "       min_level: 3\n",
       "       max_level: 7\n",
       "       anchor_scale: 4.0\n",
       "       aspect_ratios: 1.0\n",
       "       aspect_ratios: 2.0\n",
       "       aspect_ratios: 0.5\n",
       "       scales_per_octave: 2\n",
       "     }\n",
       "   }\n",
       "   post_processing {\n",
       "     batch_non_max_suppression {\n",
       "       score_threshold: 9.99999993922529e-09\n",
       "       iou_threshold: 0.6000000238418579\n",
       "       max_detections_per_class: 100\n",
       "       max_total_detections: 100\n",
       "       use_static_shapes: false\n",
       "     }\n",
       "     score_converter: SIGMOID\n",
       "   }\n",
       "   normalize_loss_by_num_matches: true\n",
       "   loss {\n",
       "     localization_loss {\n",
       "       weighted_smooth_l1 {\n",
       "       }\n",
       "     }\n",
       "     classification_loss {\n",
       "       weighted_sigmoid_focal {\n",
       "         gamma: 2.0\n",
       "         alpha: 0.25\n",
       "       }\n",
       "     }\n",
       "     classification_weight: 1.0\n",
       "     localization_weight: 1.0\n",
       "   }\n",
       "   encode_background_as_zeros: true\n",
       "   normalize_loc_loss_by_codesize: true\n",
       "   inplace_batchnorm_update: true\n",
       "   freeze_batchnorm: false\n",
       " },\n",
       " 'train_config': batch_size: 128\n",
       " data_augmentation_options {\n",
       "   random_horizontal_flip {\n",
       "   }\n",
       " }\n",
       " data_augmentation_options {\n",
       "   random_crop_image {\n",
       "     min_object_covered: 0.0\n",
       "     min_aspect_ratio: 0.75\n",
       "     max_aspect_ratio: 3.0\n",
       "     min_area: 0.75\n",
       "     max_area: 1.0\n",
       "     overlap_thresh: 0.0\n",
       "   }\n",
       " }\n",
       " sync_replicas: true\n",
       " optimizer {\n",
       "   momentum_optimizer {\n",
       "     learning_rate {\n",
       "       cosine_decay_learning_rate {\n",
       "         learning_rate_base: 0.07999999821186066\n",
       "         total_steps: 50000\n",
       "         warmup_learning_rate: 0.026666000485420227\n",
       "         warmup_steps: 1000\n",
       "       }\n",
       "     }\n",
       "     momentum_optimizer_value: 0.8999999761581421\n",
       "   }\n",
       "   use_moving_average: false\n",
       " }\n",
       " fine_tune_checkpoint: \"PATH_TO_BE_CONFIGURED\"\n",
       " num_steps: 50000\n",
       " startup_delay_steps: 0.0\n",
       " replicas_to_aggregate: 8\n",
       " max_number_of_boxes: 100\n",
       " unpad_groundtruth_tensors: false\n",
       " fine_tune_checkpoint_type: \"classification\"\n",
       " fine_tune_checkpoint_version: V2,\n",
       " 'train_input_config': label_map_path: \"PATH_TO_BE_CONFIGURED\"\n",
       " tf_record_input_reader {\n",
       "   input_path: \"PATH_TO_BE_CONFIGURED\"\n",
       " },\n",
       " 'eval_config': metrics_set: \"coco_detection_metrics\"\n",
       " use_moving_averages: false,\n",
       " 'eval_input_configs': [label_map_path: \"PATH_TO_BE_CONFIGURED\"\n",
       " shuffle: false\n",
       " num_epochs: 1\n",
       " tf_record_input_reader {\n",
       "   input_path: \"PATH_TO_BE_CONFIGURED\"\n",
       " }\n",
       " ],\n",
       " 'eval_input_config': label_map_path: \"PATH_TO_BE_CONFIGURED\"\n",
       " shuffle: false\n",
       " num_epochs: 1\n",
       " tf_record_input_reader {\n",
       "   input_path: \"PATH_TO_BE_CONFIGURED\"\n",
       " }}"
      ]
     },
     "execution_count": 26,
     "metadata": {},
     "output_type": "execute_result"
    }
   ],
   "source": [
    "CONFIG_PATH = MODEL_PATH + '/' + CUSTOM_MODEL_NAME + '/pipeline.config'\n",
    "config = config_util.get_configs_from_pipeline_file(CONFIG_PATH)\n",
    "config"
   ]
  },
  {
   "cell_type": "code",
   "execution_count": 31,
   "id": "4e7cc6cb",
   "metadata": {},
   "outputs": [],
   "source": [
    "pipeline_config = pipeline_pb2.TrainEvalPipelineConfig() #create a template config\n",
    "with tf.io.gfile.GFile(CONFIG_PATH, 'r') as f:\n",
    "    proto_str = f.read()\n",
    "    text_format.Merge(proto_str, pipeline_config)"
   ]
  },
  {
   "cell_type": "code",
   "execution_count": 42,
   "id": "71cd5f0f",
   "metadata": {},
   "outputs": [],
   "source": [
    "pipeline_config.model.ssd.num_classes = 2 # number of labels, (in this case mask and no mask)\n",
    "pipeline_config.train_config.batch_size = 4 #higher the hardware capability, higher trhe batch size can be\n",
    "pipeline_config.train_config.fine_tune_checkpoint = 'tensorflow/workspace/pre_trained_model/ssd_mobilenet_v2_fpnlite_320x320_coco17_tpu-8/checkpoint/ckpt-0'#where we want to start training from \n",
    "pipeline_config.train_config.fine_tune_checkpoint_type = 'detection' # parameter\n",
    "pipeline_config.train_input_reader.label_map_path = ANNOTATION_PATH + '/label_map.pbtxt' # label map path\n",
    "pipeline_config.train_input_reader.tf_record_input_reader.input_path[:] = [ANNOTATION_PATH + '/train.record'] #specify train record path\n",
    "pipeline_config.eval_input_reader[0].label_map_path = ANNOTATION_PATH + '/label_map.pbtxt' #for the testing\n",
    "pipeline_config.eval_input_reader[0].tf_record_input_reader.input_path[:] = [ANNOTATION_PATH + '/test.record'] # path for test record"
   ]
  },
  {
   "cell_type": "code",
   "execution_count": 43,
   "id": "8d974030",
   "metadata": {},
   "outputs": [],
   "source": [
    "config_text = text_format.MessageToString(pipeline_config)\n",
    "with tf.io.gfile.GFile(CONFIG_PATH, \"wb\") as f:\n",
    "    f.write(config_text)"
   ]
  },
  {
   "cell_type": "markdown",
   "id": "ceb90239",
   "metadata": {},
   "source": [
    "# 6. Train the model "
   ]
  },
  {
   "cell_type": "code",
   "execution_count": 44,
   "id": "1b12c048",
   "metadata": {},
   "outputs": [
    {
     "name": "stdout",
     "output_type": "stream",
     "text": [
      "python tensorflow/models/research/object_detection/model_main_tf2.py --model_dir=tensorflow/workspace/models/my_ssd_mobnet --pipeline_config_path=tensorflow/workspace/models/my_ssd_mobnet/pipeline.config --num_train_steps=10000\n"
     ]
    }
   ],
   "source": [
    "print(\"\"\"python {}/research/object_detection/model_main_tf2.py --model_dir={}/{} --pipeline_config_path={}/{}/pipeline.config --num_train_steps=10000\"\"\".format(API_MODEL_PATH, MODEL_PATH,CUSTOM_MODEL_NAME,MODEL_PATH,CUSTOM_MODEL_NAME))"
   ]
  },
  {
   "cell_type": "markdown",
   "id": "1d3573b8",
   "metadata": {},
   "source": [
    "#### Copy this command and run this in command prompt"
   ]
  },
  {
   "cell_type": "markdown",
   "id": "dcdd5734",
   "metadata": {},
   "source": [
    "# 7. Load train model from checkpoint "
   ]
  },
  {
   "cell_type": "code",
   "execution_count": 46,
   "id": "a1fa41f4",
   "metadata": {},
   "outputs": [],
   "source": [
    "import os\n",
    "from object_detection.utils import label_map_util #work with label map\n",
    "from object_detection.utils import visualization_utils as viz_utils #visualize the box on the frame\n",
    "from object_detection.builders import model_builder #build the model from checkpoint"
   ]
  },
  {
   "cell_type": "code",
   "execution_count": 55,
   "id": "50b4bb14",
   "metadata": {},
   "outputs": [
    {
     "data": {
      "text/plain": [
       "<tensorflow.python.checkpoint.checkpoint.CheckpointLoadStatus at 0x294f7a7b160>"
      ]
     },
     "execution_count": 55,
     "metadata": {},
     "output_type": "execute_result"
    }
   ],
   "source": [
    "configs = config_util.get_configs_from_pipeline_file(CONFIG_PATH) #Grab the modified pipeline\n",
    "detection_model = model_builder.build(model_config=configs['model'], is_training = False) #Build the model using model config\n",
    "\n",
    "ckpt = tf.compat.v2.train.Checkpoint(model=detection_model)\n",
    "ckpt.restore(os.path.join(CHECKPOINT_PATH, 'ckpt-11')).expect_partial() #Load the latest checkpoint (ckpt-32.index) into the pipeline"
   ]
  },
  {
   "cell_type": "markdown",
   "id": "f3df70b6",
   "metadata": {},
   "source": [
    "#### Write the detection function"
   ]
  },
  {
   "cell_type": "code",
   "execution_count": 68,
   "id": "9f52b068",
   "metadata": {},
   "outputs": [],
   "source": [
    "@tf.function #Tensorflow function\n",
    "def detect_fn(image): #passing through image argument\n",
    "    image, shapes = detection_model.preprocess(image) #resize the image\n",
    "    prediction_dict = detection_model.predict(image, shapes) #predict\n",
    "    detections = detection_model.postprocess(prediction_dict, shapes) #postprocess\n",
    "    return detections"
   ]
  },
  {
   "cell_type": "markdown",
   "id": "a5e158fe",
   "metadata": {},
   "source": [
    "# 8.  Test realtime"
   ]
  },
  {
   "cell_type": "code",
   "execution_count": 56,
   "id": "0caa16fa",
   "metadata": {},
   "outputs": [],
   "source": [
    "import cv2\n",
    "import numpy as np"
   ]
  },
  {
   "cell_type": "code",
   "execution_count": 59,
   "id": "f364d8e4",
   "metadata": {},
   "outputs": [],
   "source": [
    "category_index = label_map_util.create_category_index_from_labelmap(ANNOTATION_PATH+ '/label_map.pbtxt')"
   ]
  },
  {
   "cell_type": "code",
   "execution_count": 60,
   "id": "aa16a742",
   "metadata": {},
   "outputs": [
    {
     "data": {
      "text/plain": [
       "{1: {'id': 1, 'name': 'mask'}, 2: {'id': 2, 'name': 'no_mask'}}"
      ]
     },
     "execution_count": 60,
     "metadata": {},
     "output_type": "execute_result"
    }
   ],
   "source": [
    "category_index"
   ]
  },
  {
   "cell_type": "code",
   "execution_count": 61,
   "id": "de88df26",
   "metadata": {},
   "outputs": [],
   "source": [
    "cap = cv2.VideoCapture(0) #Access webcam\n",
    "width = int(cap.get(cv2.CAP_PROP_FRAME_WIDTH))\n",
    "height = int(cap.get(cv2.CAP_PROP_FRAME_HEIGHT))"
   ]
  },
  {
   "cell_type": "code",
   "execution_count": 69,
   "id": "574d7884",
   "metadata": {},
   "outputs": [],
   "source": [
    "while True: \n",
    "    ret, frame = cap.read()\n",
    "    image_np = np.array(frame)\n",
    "    \n",
    "    input_tensor = tf.convert_to_tensor(np.expand_dims(image_np, 0), dtype=tf.float32)\n",
    "    detections = detect_fn(input_tensor)\n",
    "    \n",
    "    num_detections = int(detections.pop('num_detections'))\n",
    "    detections = {key: value[0, :num_detections].numpy()\n",
    "                  for key, value in detections.items()}\n",
    "    detections['num_detections'] = num_detections\n",
    "\n",
    "    # detection_classes should be ints.\n",
    "    detections['detection_classes'] = detections['detection_classes'].astype(np.int64)\n",
    "\n",
    "    label_id_offset = 1\n",
    "    image_np_with_detections = image_np.copy()\n",
    "\n",
    "    viz_utils.visualize_boxes_and_labels_on_image_array(\n",
    "                image_np_with_detections,\n",
    "                detections['detection_boxes'],\n",
    "                detections['detection_classes']+label_id_offset,\n",
    "                detections['detection_scores'],\n",
    "                category_index,\n",
    "                use_normalized_coordinates=True,\n",
    "                max_boxes_to_draw=5,\n",
    "                min_score_thresh=.5,\n",
    "                agnostic_mode=False)\n",
    "\n",
    "    cv2.imshow('object detection',  cv2.resize(image_np_with_detections, (800, 600)))\n",
    "    \n",
    "    if cv2.waitKey(1) & 0xFF == ord('q'):\n",
    "        cap.release()\n",
    "        break"
   ]
  },
  {
   "cell_type": "code",
   "execution_count": null,
   "id": "88e45ad4",
   "metadata": {},
   "outputs": [],
   "source": [
    "detections = detect_fn(input_tensor)"
   ]
  }
 ],
 "metadata": {
  "kernelspec": {
   "display_name": "Python 3 (ipykernel)",
   "language": "python",
   "name": "python3"
  },
  "language_info": {
   "codemirror_mode": {
    "name": "ipython",
    "version": 3
   },
   "file_extension": ".py",
   "mimetype": "text/x-python",
   "name": "python",
   "nbconvert_exporter": "python",
   "pygments_lexer": "ipython3",
   "version": "3.9.9"
  }
 },
 "nbformat": 4,
 "nbformat_minor": 5
}
